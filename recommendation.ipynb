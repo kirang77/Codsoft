{
  "nbformat": 4,
  "nbformat_minor": 0,
  "metadata": {
    "colab": {
      "provenance": [],
      "authorship_tag": "ABX9TyMDKyjObJjUfrodMCOGB3x7",
      "include_colab_link": true
    },
    "kernelspec": {
      "name": "python3",
      "display_name": "Python 3"
    },
    "language_info": {
      "name": "python"
    }
  },
  "cells": [
    {
      "cell_type": "markdown",
      "metadata": {
        "id": "view-in-github",
        "colab_type": "text"
      },
      "source": [
        "<a href=\"https://colab.research.google.com/github/kirang77/Codsoft/blob/main/recommendation.ipynb\" target=\"_parent\"><img src=\"https://colab.research.google.com/assets/colab-badge.svg\" alt=\"Open In Colab\"/></a>"
      ]
    },
    {
      "cell_type": "code",
      "execution_count": 1,
      "metadata": {
        "colab": {
          "base_uri": "https://localhost:8080/"
        },
        "id": "qkY3qqu4L57j",
        "outputId": "cbcbf729-9839-47b8-af70-a7d0aa665bbb"
      },
      "outputs": [
        {
          "output_type": "stream",
          "name": "stdout",
          "text": [
            "Requirement already satisfied: pandas in /usr/local/lib/python3.10/dist-packages (2.2.2)\n",
            "Requirement already satisfied: numpy in /usr/local/lib/python3.10/dist-packages (1.26.4)\n",
            "Requirement already satisfied: scikit-learn in /usr/local/lib/python3.10/dist-packages (1.5.2)\n",
            "Requirement already satisfied: python-dateutil>=2.8.2 in /usr/local/lib/python3.10/dist-packages (from pandas) (2.8.2)\n",
            "Requirement already satisfied: pytz>=2020.1 in /usr/local/lib/python3.10/dist-packages (from pandas) (2024.2)\n",
            "Requirement already satisfied: tzdata>=2022.7 in /usr/local/lib/python3.10/dist-packages (from pandas) (2024.2)\n",
            "Requirement already satisfied: scipy>=1.6.0 in /usr/local/lib/python3.10/dist-packages (from scikit-learn) (1.13.1)\n",
            "Requirement already satisfied: joblib>=1.2.0 in /usr/local/lib/python3.10/dist-packages (from scikit-learn) (1.4.2)\n",
            "Requirement already satisfied: threadpoolctl>=3.1.0 in /usr/local/lib/python3.10/dist-packages (from scikit-learn) (3.5.0)\n",
            "Requirement already satisfied: six>=1.5 in /usr/local/lib/python3.10/dist-packages (from python-dateutil>=2.8.2->pandas) (1.16.0)\n"
          ]
        }
      ],
      "source": [
        "pip install pandas numpy scikit-learn\n"
      ]
    },
    {
      "cell_type": "code",
      "source": [
        "import pandas as pd\n",
        "import numpy as np\n",
        "from sklearn.metrics.pairwise import cosine_similarity\n",
        "from sklearn.model_selection import train_test_split\n",
        "import zipfile\n",
        "import io\n",
        "import requests\n",
        "\n",
        "url = 'http://files.grouplens.org/datasets/movielens/ml-latest-small.zip'\n",
        "r = requests.get(url)\n",
        "r.raise_for_status()\n",
        "\n",
        "with zipfile.ZipFile(io.BytesIO(r.content)) as z:\n",
        "    for filename in z.namelist():\n",
        "        if filename.endswith('ratings.csv'):\n",
        "            with z.open(filename) as f:\n",
        "                df = pd.read_csv(f, usecols=['userId', 'movieId', 'rating'])\n",
        "            break\n",
        "\n",
        "user_movie_matrix = df.pivot(index='userId', columns='movieId', values='rating').fillna(0)\n",
        "\n",
        "user_similarity = cosine_similarity(user_movie_matrix)\n",
        "user_similarity_df = pd.DataFrame(user_similarity, index=user_movie_matrix.index, columns=user_movie_matrix.index)\n",
        "\n",
        "def get_recommendations(user_id, user_movie_matrix, user_similarity_df, num_recommendations=5):\n",
        "    similar_users = user_similarity_df[user_id].sort_values(ascending=False).index[1:]\n",
        "    recommended_movies = user_movie_matrix.loc[similar_users].mean().sort_values(ascending=False).index[:num_recommendations]\n",
        "    return recommended_movies\n",
        "\n",
        "train_data, test_data = train_test_split(df, test_size=0.2, random_state=42)\n",
        "\n",
        "train_user_movie_matrix = train_data.pivot(index='userId', columns='movieId', values='rating').fillna(0)\n",
        "\n",
        "train_user_similarity = cosine_similarity(train_user_movie_matrix)\n",
        "train_user_similarity_df = pd.DataFrame(train_user_similarity, index=train_user_movie_matrix.index, columns=train_user_movie_matrix.index)\n",
        "\n",
        "recommended_movies_train = get_recommendations(user_id=1, user_movie_matrix=train_user_movie_matrix, user_similarity_df=train_user_similarity_df)\n",
        "\n",
        "url_movies = 'http://files.grouplens.org/datasets/movielens/ml-latest-small.zip'\n",
        "r_movies = requests.get(url_movies)\n",
        "r_movies.raise_for_status()\n",
        "\n",
        "with zipfile.ZipFile(io.BytesIO(r_movies.content)) as z:\n",
        "    for filename in z.namelist():\n",
        "        if filename.endswith('movies.csv'):\n",
        "            with z.open(filename) as f:\n",
        "                movies = pd.read_csv(f, usecols=['movieId', 'title'])\n",
        "            break\n",
        "\n",
        "recommended_movie_titles = movies[movies['movieId'].isin(recommended_movies_train)]\n",
        "print(\"Recommended Movies Titles (Train Data):\")\n",
        "print(recommended_movie_titles)\n"
      ],
      "metadata": {
        "colab": {
          "base_uri": "https://localhost:8080/"
        },
        "id": "ItTKhHgrMITz",
        "outputId": "f7a97b98-6247-498e-a854-3b9233aad278"
      },
      "execution_count": 2,
      "outputs": [
        {
          "output_type": "stream",
          "name": "stdout",
          "text": [
            "Recommended Movies Titles (Train Data):\n",
            "      movieId                             title\n",
            "257       296               Pulp Fiction (1994)\n",
            "277       318  Shawshank Redemption, The (1994)\n",
            "314       356               Forrest Gump (1994)\n",
            "510       593  Silence of the Lambs, The (1991)\n",
            "1939     2571                Matrix, The (1999)\n"
          ]
        }
      ]
    }
  ]
}