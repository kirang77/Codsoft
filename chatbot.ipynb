{
  "nbformat": 4,
  "nbformat_minor": 0,
  "metadata": {
    "colab": {
      "provenance": [],
      "authorship_tag": "ABX9TyNNKwZnWpY1iUKFgqG+LX90",
      "include_colab_link": true
    },
    "kernelspec": {
      "name": "python3",
      "display_name": "Python 3"
    },
    "language_info": {
      "name": "python"
    }
  },
  "cells": [
    {
      "cell_type": "markdown",
      "metadata": {
        "id": "view-in-github",
        "colab_type": "text"
      },
      "source": [
        "<a href=\"https://colab.research.google.com/github/kirang77/Codsoft/blob/main/chatbot.ipynb\" target=\"_parent\"><img src=\"https://colab.research.google.com/assets/colab-badge.svg\" alt=\"Open In Colab\"/></a>"
      ]
    },
    {
      "cell_type": "code",
      "execution_count": 1,
      "metadata": {
        "colab": {
          "base_uri": "https://localhost:8080/"
        },
        "id": "MNKOOEXhMfGn",
        "outputId": "45b40644-50c2-4d4d-e28b-3ff1c1eec16d"
      },
      "outputs": [
        {
          "output_type": "stream",
          "name": "stdout",
          "text": [
            "You: hi\n",
            "Chatbot: Hello there! How can I help you today?\n",
            "You: name\n",
            "Chatbot: I'm your friendly neighborhood chatbot!, and my name is always sweet to you \n",
            "You: weather update\n",
            "Chatbot: I can't check the weather right now, but I hope it's nice wherever you are!\n",
            "You: tell me a joke\n",
            "Chatbot: How does the ocean say hi? It waves!!\n",
            "You: ok bye\n",
            "Chatbot: Goodbye! Have a good day!\n"
          ]
        }
      ],
      "source": [
        "def chatbot_response(user_input):\n",
        "    user_input = user_input.lower()\n",
        "\n",
        "    if \"hello\" in user_input or \"hi\" in user_input:\n",
        "        return \"Hello there! How can I help you today?\"\n",
        "\n",
        "    elif \"bye\" in user_input or \"goodbye\" in user_input:\n",
        "        return \"Goodbye! Have a good day!\"\n",
        "\n",
        "    elif \"how are you\" in user_input:\n",
        "        return \"I'm fine, but I'm here to help! How about you?\"\n",
        "\n",
        "    elif \"weather\" in user_input:\n",
        "        return \"I can't check the weather right now, but I hope it's nice wherever you are!\"\n",
        "\n",
        "    elif \"name\" in user_input:\n",
        "        return \"I'm your friendly neighborhood chatbot!, and my name is always sweet to you \"\n",
        "\n",
        "    elif \"joke\" in user_input:\n",
        "        return \"How does the ocean say hi? It waves!!\"\n",
        "\n",
        "    else:\n",
        "        return \"I don't know  how to respond to that. Could you ask something else?\"\n",
        "\n",
        "while True:\n",
        "    user_input = input(\"You: \")\n",
        "    response = chatbot_response(user_input)\n",
        "    print(\"Chatbot: \" + response)\n",
        "    if \"bye\" in user_input or \"goodbye\" in user_input:\n",
        "        break\n",
        "\n"
      ]
    }
  ]
}